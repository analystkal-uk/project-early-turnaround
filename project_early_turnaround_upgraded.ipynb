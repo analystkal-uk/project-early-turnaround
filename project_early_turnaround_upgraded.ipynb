{
 "cells": [
  {
   "cell_type": "markdown",
   "id": "c97fcd75",
   "metadata": {},
   "source": [
    "# 🧠 Project Early Turnaround\n",
    "**Predicting NEET (Not in Education, Employment or Training) Risk Among UK Youth**\n",
    "\n",
    "This notebook walks through a complete ML prototype that uses simulated data to identify which students are most at risk of becoming NEET — based on academic, behavioural, and socio-economic factors.\n",
    "\n",
    "> ⚠️ All data used here is synthetic, inspired by public UK datasets, and is for demonstration purposes only.\n"
   ]
  },
  {
   "cell_type": "markdown",
   "id": "81209597",
   "metadata": {},
   "source": [
    "## 📊 Step 1: Simulate the Dataset\n",
    "\n",
    "We generate a dataset of 1,000 fictional students, including academic performance, attendance, special needs, and other risk factors based on real-world research.\n"
   ]
  },
  {
   "cell_type": "code",
   "execution_count": null,
   "id": "b1e3f510",
   "metadata": {},
   "outputs": [],
   "source": [
    "import pandas as pd\n",
    "import numpy as np\n",
    "\n",
    "np.random.seed(42)\n",
    "n = 1000\n",
    "\n",
    "data = pd.DataFrame({\n",
    "    \"GCSE_Maths\": np.random.randint(1, 10, n),\n",
    "    \"GCSE_English\": np.random.randint(1, 10, n),\n",
    "    \"Attendance_Percent\": np.random.normal(85, 10, n).clip(40, 100),\n",
    "    \"SEN_Status\": np.random.choice([0, 1], n, p=[0.85, 0.15]),\n",
    "    \"FSM_Eligible\": np.random.choice([0, 1], n, p=[0.7, 0.3]),\n",
    "    \"School_Exclusions\": np.random.poisson(0.3, n),\n",
    "    \"Parent_Employment_Status\": np.random.choice([\"Employed\", \"Unemployed\", \"Part-time\"], n, p=[0.6, 0.25, 0.15]),\n",
    "    \"Household_Income\": np.random.normal(25000, 8000, n).clip(10000, 100000),\n",
    "    \"Region\": np.random.choice([\"London\", \"North West\", \"West Midlands\", \"South East\"], n),\n",
    "    \"Postcode_Deprivation_Index\": np.random.randint(1, 11, n)\n",
    "})\n",
    "\n",
    "def assign_neet(row):\n",
    "    risk_score = (\n",
    "        (10 - row[\"GCSE_Maths\"]) * 0.1 +\n",
    "        (10 - row[\"GCSE_English\"]) * 0.1 +\n",
    "        (100 - row[\"Attendance_Percent\"]) * 0.05 +\n",
    "        row[\"SEN_Status\"] * 0.3 +\n",
    "        row[\"FSM_Eligible\"] * 0.2 +\n",
    "        row[\"School_Exclusions\"] * 0.3 +\n",
    "        (1 if row[\"Parent_Employment_Status\"] == \"Unemployed\" else 0) * 0.2 +\n",
    "        (1 if row[\"Region\"] in [\"North West\", \"West Midlands\"] else 0) * 0.1 +\n",
    "        (10 - row[\"Postcode_Deprivation_Index\"]) * 0.05\n",
    "    )\n",
    "    return int(risk_score > 1.5)\n",
    "\n",
    "data[\"NEET_Risk\"] = data.apply(assign_neet, axis=1)\n",
    "data.head()"
   ]
  },
  {
   "cell_type": "markdown",
   "id": "8d5046d2",
   "metadata": {},
   "source": [
    "## ⚙️ Step 2: Preprocessing\n",
    "\n",
    "We convert categorical features and prepare the data for model training.\n"
   ]
  },
  {
   "cell_type": "code",
   "execution_count": null,
   "id": "edfd2d44",
   "metadata": {},
   "outputs": [],
   "source": [
    "from sklearn.model_selection import train_test_split\n",
    "\n",
    "X = data.drop(columns=[\"NEET_Risk\", \"Region\", \"Parent_Employment_Status\"])\n",
    "X = pd.get_dummies(X, drop_first=True)\n",
    "y = data[\"NEET_Risk\"]\n",
    "\n",
    "X_train, X_test, y_train, y_test = train_test_split(X, y, test_size=0.2, random_state=42)"
   ]
  },
  {
   "cell_type": "markdown",
   "id": "1f90b409",
   "metadata": {},
   "source": [
    "## 🧠 Step 3: Train the Model\n",
    "\n",
    "We use a Random Forest Classifier to predict NEET risk.\n"
   ]
  },
  {
   "cell_type": "code",
   "execution_count": null,
   "id": "28354a9d",
   "metadata": {},
   "outputs": [],
   "source": [
    "from sklearn.ensemble import RandomForestClassifier\n",
    "\n",
    "rf = RandomForestClassifier(n_estimators=100, random_state=42)\n",
    "rf.fit(X_train, y_train)"
   ]
  },
  {
   "cell_type": "markdown",
   "id": "8211dc48",
   "metadata": {},
   "source": [
    "## 📈 Step 4: Evaluate the Model\n",
    "\n",
    "We check the model's performance using standard metrics.\n"
   ]
  },
  {
   "cell_type": "code",
   "execution_count": null,
   "id": "e580f3a1",
   "metadata": {},
   "outputs": [],
   "source": [
    "from sklearn.metrics import confusion_matrix, classification_report, roc_auc_score, RocCurveDisplay\n",
    "import matplotlib.pyplot as plt\n",
    "\n",
    "y_pred = rf.predict(X_test)\n",
    "y_proba = rf.predict_proba(X_test)[:, 1]\n",
    "\n",
    "print(confusion_matrix(y_test, y_pred))\n",
    "print(classification_report(y_test, y_pred))\n",
    "print(\"ROC AUC:\", roc_auc_score(y_test, y_proba))\n",
    "\n",
    "RocCurveDisplay.from_estimator(rf, X_test, y_test)\n",
    "plt.title(\"ROC Curve\")\n",
    "plt.show()"
   ]
  },
  {
   "cell_type": "markdown",
   "id": "4f71b0d7",
   "metadata": {},
   "source": [
    "## 🔍 Step 5: Understand Feature Importance\n",
    "\n",
    "We examine which features the model relied on most.\n"
   ]
  },
  {
   "cell_type": "code",
   "execution_count": null,
   "id": "e2c8b3e8",
   "metadata": {},
   "outputs": [],
   "source": [
    "importances = rf.feature_importances_\n",
    "features = X.columns\n",
    "feat_imp = pd.DataFrame({'Feature': features, 'Importance': importances}).sort_values(by='Importance', ascending=False)\n",
    "\n",
    "feat_imp.plot.bar(x='Feature', y='Importance', title='Feature Importance', legend=False, figsize=(10,5))\n",
    "plt.tight_layout()\n",
    "plt.show()"
   ]
  },
  {
   "cell_type": "markdown",
   "id": "0ae65d66",
   "metadata": {},
   "source": [
    "## ✅ Summary & Next Steps\n",
    "\n",
    "This model achieved **high predictive accuracy** with a **ROC AUC of 0.98**, showing strong potential for identifying NEET risk.\n",
    "\n",
    "### 📌 Key Takeaways:\n",
    "- Attendance, GCSE scores, and deprivation were top predictors.\n",
    "- Even a simple model on synthetic data reveals patterns worth acting on.\n",
    "- With access to real student data (ethically managed), this could support early intervention strategies across the UK.\n",
    "\n",
    "---\n",
    "\n",
    "📬 **Let’s Talk**: If you're a council, youth charity, or education trust and want to explore this further — reach out.\n"
   ]
  }
 ],
 "metadata": {
  "kernelspec": {
   "display_name": "Python 3 (ipykernel)",
   "language": "python",
   "name": "python3"
  },
  "language_info": {
   "codemirror_mode": {
    "name": "ipython",
    "version": 3
   },
   "file_extension": ".py",
   "mimetype": "text/x-python",
   "name": "python",
   "nbconvert_exporter": "python",
   "pygments_lexer": "ipython3",
   "version": "3.9.12"
  },
  "latex_envs": {
   "LaTeX_envs_menu_present": true,
   "autoclose": false,
   "autocomplete": true,
   "bibliofile": "biblio.bib",
   "cite_by": "apalike",
   "current_citInitial": 1,
   "eqLabelWithNumbers": true,
   "eqNumInitial": 1,
   "hotkeys": {
    "equation": "Ctrl-E",
    "itemize": "Ctrl-I"
   },
   "labels_anchors": false,
   "latex_user_defs": false,
   "report_style_numbering": false,
   "user_envs_cfg": false
  },
  "toc": {
   "base_numbering": 1,
   "nav_menu": {},
   "number_sections": true,
   "sideBar": true,
   "skip_h1_title": false,
   "title_cell": "Table of Contents",
   "title_sidebar": "Contents",
   "toc_cell": false,
   "toc_position": {},
   "toc_section_display": true,
   "toc_window_display": false
  },
  "varInspector": {
   "cols": {
    "lenName": 16,
    "lenType": 16,
    "lenVar": 40
   },
   "kernels_config": {
    "python": {
     "delete_cmd_postfix": "",
     "delete_cmd_prefix": "del ",
     "library": "var_list.py",
     "varRefreshCmd": "print(var_dic_list())"
    },
    "r": {
     "delete_cmd_postfix": ") ",
     "delete_cmd_prefix": "rm(",
     "library": "var_list.r",
     "varRefreshCmd": "cat(var_dic_list()) "
    }
   },
   "types_to_exclude": [
    "module",
    "function",
    "builtin_function_or_method",
    "instance",
    "_Feature"
   ],
   "window_display": false
  }
 },
 "nbformat": 4,
 "nbformat_minor": 5
}
